{
  "cells": [
    {
      "cell_type": "markdown",
      "metadata": {
        "id": "view-in-github",
        "colab_type": "text"
      },
      "source": [
        "<a href=\"https://colab.research.google.com/github/rishav197/ML_Assignment/blob/main/A3/ML_A3_PartC.ipynb\" target=\"_parent\"><img src=\"https://colab.research.google.com/assets/colab-badge.svg\" alt=\"Open In Colab\"/></a>"
      ]
    },
    {
      "cell_type": "code",
      "execution_count": null,
      "metadata": {
        "colab": {
          "base_uri": "https://localhost:8080/"
        },
        "id": "FpmzOFxHZpLC",
        "outputId": "7dc946a4-995f-4957-9345-87ae95a83ec4"
      },
      "outputs": [
        {
          "name": "stdout",
          "output_type": "stream",
          "text": [
            "Mounted at /content/drive\n"
          ]
        }
      ],
      "source": [
        "from google.colab import drive\n",
        "drive.mount('/content/drive')"
      ]
    },
    {
      "cell_type": "code",
      "execution_count": null,
      "metadata": {
        "colab": {
          "base_uri": "https://localhost:8080/"
        },
        "id": "_IO3u6c8ZpNH",
        "outputId": "59038ca0-42c6-4c3a-d31b-439252561149"
      },
      "outputs": [
        {
          "name": "stdout",
          "output_type": "stream",
          "text": [
            "Cloning into 'fashion-mnist'...\n",
            "remote: Enumerating objects: 762, done.\u001b[K\n",
            "remote: Counting objects: 100% (4/4), done.\u001b[K\n",
            "remote: Compressing objects: 100% (4/4), done.\u001b[K\n",
            "remote: Total 762 (delta 0), reused 3 (delta 0), pack-reused 758\u001b[K\n",
            "Receiving objects: 100% (762/762), 105.85 MiB | 31.48 MiB/s, done.\n",
            "Resolving deltas: 100% (444/444), done.\n"
          ]
        }
      ],
      "source": [
        "!git clone https://github.com/zalandoresearch/fashion-mnist.git"
      ]
    },
    {
      "cell_type": "code",
      "execution_count": null,
      "metadata": {
        "colab": {
          "base_uri": "https://localhost:8080/"
        },
        "id": "Buo6tGvla8J_",
        "outputId": "d7e73952-0bd3-4442-d1ce-43f6a399e3e7"
      },
      "outputs": [
        {
          "name": "stdout",
          "output_type": "stream",
          "text": [
            "/content/fashion-mnist\n"
          ]
        }
      ],
      "source": [
        "%cd /content/fashion-mnist"
      ]
    },
    {
      "cell_type": "code",
      "execution_count": null,
      "metadata": {
        "id": "dUY2Lu8kZpPd"
      },
      "outputs": [],
      "source": [
        "import utils.mnist_reader as mnist_reader\n",
        "X_train, y_train = mnist_reader.load_mnist('data/fashion', kind='train')\n",
        "X_test, y_test = mnist_reader.load_mnist('data/fashion', kind='t10k')"
      ]
    },
    {
      "cell_type": "code",
      "execution_count": null,
      "metadata": {
        "colab": {
          "base_uri": "https://localhost:8080/"
        },
        "id": "WBzzYs1jf36L",
        "outputId": "aad4607b-b42f-4e01-e86d-0b5421ad5bbd"
      },
      "outputs": [
        {
          "name": "stdout",
          "output_type": "stream",
          "text": [
            "(60000, 784)\n",
            "(60000,)\n",
            "(10000, 784)\n",
            "(10000,)\n"
          ]
        }
      ],
      "source": [
        "print(X_train.shape)\n",
        "print(y_train.shape)\n",
        "print(X_test.shape)\n",
        "print(y_test.shape)"
      ]
    },
    {
      "cell_type": "code",
      "execution_count": null,
      "metadata": {
        "id": "RvQBbzFVbaqU"
      },
      "outputs": [],
      "source": [
        "# Splitting train set into ratio of 85:15 train to validation set \n",
        "from sklearn.model_selection import train_test_split\n",
        "\n",
        "X_train_valid, X_test_valid, y_train_valid, y_test_valid = train_test_split(X_train, y_train, train_size=0.85, test_size=0.15, shuffle=True)"
      ]
    },
    {
      "cell_type": "code",
      "execution_count": null,
      "metadata": {
        "colab": {
          "base_uri": "https://localhost:8080/"
        },
        "id": "XcOPHVbGZpRd",
        "outputId": "826b2da6-afb8-45a5-a0e8-e467a9baabb4"
      },
      "outputs": [
        {
          "name": "stdout",
          "output_type": "stream",
          "text": [
            "(51000, 784)\n",
            "(9000, 784)\n",
            "(51000,)\n",
            "(9000,)\n"
          ]
        }
      ],
      "source": [
        "print(X_train_valid.shape)\n",
        "print(X_test_valid.shape)\n",
        "print(y_train_valid.shape)\n",
        "print(y_test_valid.shape)"
      ]
    },
    {
      "cell_type": "markdown",
      "metadata": {
        "id": "adxrqHYijVmE"
      },
      "source": [
        "##Training the Model\n",
        "\n",
        "training the models for different activation functions such as sigmoid,\n",
        "relu, tanh and linear"
      ]
    },
    {
      "cell_type": "code",
      "execution_count": null,
      "metadata": {
        "id": "x_71zd5sf1xX"
      },
      "outputs": [],
      "source": [
        "from sklearn.neural_network import MLPClassifier"
      ]
    },
    {
      "cell_type": "code",
      "execution_count": null,
      "metadata": {
        "colab": {
          "base_uri": "https://localhost:8080/"
        },
        "id": "t7cNHO5nlgI4",
        "outputId": "e9696df3-3a41-4386-8a0f-fa597aaacc49"
      },
      "outputs": [
        {
          "name": "stderr",
          "output_type": "stream",
          "text": [
            "/usr/local/lib/python3.8/dist-packages/sklearn/neural_network/_multilayer_perceptron.py:692: ConvergenceWarning: Stochastic Optimizer: Maximum iterations (20) reached and the optimization hasn't converged yet.\n",
            "  warnings.warn(\n",
            "/usr/local/lib/python3.8/dist-packages/sklearn/neural_network/_multilayer_perceptron.py:692: ConvergenceWarning: Stochastic Optimizer: Maximum iterations (20) reached and the optimization hasn't converged yet.\n",
            "  warnings.warn(\n"
          ]
        },
        {
          "data": {
            "text/plain": [
              "MLPClassifier(activation='logistic', hidden_layer_sizes=(256, 32), max_iter=20)"
            ]
          },
          "execution_count": 10,
          "metadata": {},
          "output_type": "execute_result"
        }
      ],
      "source": [
        "# for sigmoid activation function \n",
        "mlp_sigmoid = MLPClassifier(max_iter=20, activation='logistic', hidden_layer_sizes=(256,32), verbose=False)\n",
        "mlp_sigmoid.fit(X_train, y_train)\n",
        "\n",
        "mlp_sigmoid_valid = MLPClassifier(max_iter=20, activation='logistic', hidden_layer_sizes=(256,32), verbose=False)\n",
        "mlp_sigmoid_valid.fit(X_train_valid, y_train_valid)"
      ]
    },
    {
      "cell_type": "code",
      "execution_count": null,
      "metadata": {
        "colab": {
          "base_uri": "https://localhost:8080/"
        },
        "id": "mE6qaLcPRzyV",
        "outputId": "a0aa4570-4018-48db-81b5-5095b87aa8aa"
      },
      "outputs": [
        {
          "name": "stderr",
          "output_type": "stream",
          "text": [
            "/usr/local/lib/python3.8/dist-packages/sklearn/neural_network/_multilayer_perceptron.py:692: ConvergenceWarning: Stochastic Optimizer: Maximum iterations (20) reached and the optimization hasn't converged yet.\n",
            "  warnings.warn(\n",
            "/usr/local/lib/python3.8/dist-packages/sklearn/neural_network/_multilayer_perceptron.py:692: ConvergenceWarning: Stochastic Optimizer: Maximum iterations (20) reached and the optimization hasn't converged yet.\n",
            "  warnings.warn(\n"
          ]
        },
        {
          "data": {
            "text/plain": [
              "MLPClassifier(hidden_layer_sizes=(256, 32), max_iter=20)"
            ]
          },
          "execution_count": 11,
          "metadata": {},
          "output_type": "execute_result"
        }
      ],
      "source": [
        "# for linear activation function \n",
        "mlp_relu = MLPClassifier(max_iter=20, activation='relu', hidden_layer_sizes=(256,32), verbose=False)\n",
        "mlp_relu.fit(X_train, y_train)\n",
        "\n",
        "mlp_relu_valid = MLPClassifier(max_iter=20, activation='relu', hidden_layer_sizes=(256,32), verbose=False)\n",
        "mlp_relu_valid.fit(X_train_valid, y_train_valid)"
      ]
    },
    {
      "cell_type": "code",
      "execution_count": null,
      "metadata": {
        "colab": {
          "background_save": true,
          "base_uri": "https://localhost:8080/"
        },
        "id": "mEXqjuZ_TNMs",
        "outputId": "45ea6e3c-cb01-484d-a2b7-85a015d4f868"
      },
      "outputs": [
        {
          "name": "stderr",
          "output_type": "stream",
          "text": [
            "/usr/local/lib/python3.8/dist-packages/sklearn/neural_network/_multilayer_perceptron.py:692: ConvergenceWarning: Stochastic Optimizer: Maximum iterations (20) reached and the optimization hasn't converged yet.\n",
            "  warnings.warn(\n"
          ]
        }
      ],
      "source": [
        "# for tanh activation function\n",
        "mlp_tanh = MLPClassifier(max_iter=20, activation='tanh', hidden_layer_sizes=(256,32), verbose=False)\n",
        "mlp_tanh.fit(X_train, y_train)\n",
        "\n",
        "mlp_tanh_valid = MLPClassifier(max_iter=20, activation='tanh', hidden_layer_sizes=(256,32), verbose=False)\n",
        "mlp_tanh_valid.fit(X_train, y_train)"
      ]
    },
    {
      "cell_type": "code",
      "execution_count": null,
      "metadata": {
        "id": "e_rqHdwkTTEj"
      },
      "outputs": [],
      "source": [
        "# for linear activation function\n",
        "mlp_linear = MLPClassifier(max_iter=20, activation='identity', hidden_layer_sizes=(256,32), verbose=False)\n",
        "mlp_linear.fit(X_train, y_train)\n",
        "\n",
        "mlp_linear_valid = MLPClassifier(max_iter=20, activation='identity', hidden_layer_sizes=(256,32), verbose=False)\n",
        "mlp_linear_valid.fit(X_train, y_train)"
      ]
    },
    {
      "cell_type": "markdown",
      "metadata": {
        "id": "oHMaLF216x_r"
      },
      "source": [
        "Plot Training loss vs epochs for the model at diff activation \n",
        "functions"
      ]
    },
    {
      "cell_type": "code",
      "execution_count": null,
      "metadata": {
        "id": "I1-4N7ej51sk"
      },
      "outputs": [],
      "source": [
        "sigmoid_loss_arr = mlp_sigmoid.loss_curve_\n",
        "print(sigmoid_loss_arr)\n",
        "relu_loss_arr = mlp_relu.loss_curve_\n",
        "tanh_loss_arr = mlp_tanh.loss_curve_\n",
        "linear_loss_arr = mlp_linear.loss_curve_"
      ]
    },
    {
      "cell_type": "code",
      "execution_count": null,
      "metadata": {
        "id": "y-lWg9wUjcn6"
      },
      "outputs": [],
      "source": [
        "sigmoid_loss_arr_valid = mlp_sigmoid_valid.loss_curve_\n",
        "relu_loss_arr_valid = mlp_relu_valid.loss_curve_\n",
        "tanh_loss_arr_valid = mlp_tanh_valid.loss_curve_\n",
        "linear_loss_arr_valid = mlp_linear_valid.loss_curve_"
      ]
    },
    {
      "cell_type": "code",
      "execution_count": null,
      "metadata": {
        "id": "B3XSLgQJ6p_g"
      },
      "outputs": [],
      "source": [
        "# plot for activation sigmoid\n",
        "import matplotlib.pyplot as plt\n",
        "\n",
        "plt.plot(sigmoid_loss_arr)\n",
        "plt.title(\"Plot: train loss vs epochs (activation func = sigmoid)\")\n",
        "plt.ylabel(\"train loss\")   \n",
        "plt.xlabel(\"epochs\")\n",
        "plt.show()\n",
        "# plt.savefig(\"sigmoid.jpg\")\n",
        "\n",
        "plt.plot(sigmoid_loss_arr_valid)\n",
        "plt.title(\"Plot: validation loss vs epochs (activation func = sigmoid)\")\n",
        "plt.ylabel(\"validation loss\")   \n",
        "plt.xlabel(\"epochs\")\n",
        "plt.show()"
      ]
    },
    {
      "cell_type": "code",
      "execution_count": null,
      "metadata": {
        "id": "pj5zuTGUf2Cg"
      },
      "outputs": [],
      "source": [
        "# plot for activation Relu\n",
        "import matplotlib.pyplot as plt\n",
        "\n",
        "plt.plot(relu_loss_arr)\n",
        "plt.title(\"Plot: train loss vs epochs (activation func = ReLU)\")\n",
        "plt.ylabel(\"train loss\")   \n",
        "plt.xlabel(\"epochs\")\n",
        "plt.show()\n",
        "# plt.savefig(\"ReLU.jpg\")\n",
        "\n",
        "plt.plot(relu_loss_arr_valid)\n",
        "plt.title(\"Plot: validation loss vs epochs (activation func = ReLU)\")\n",
        "plt.ylabel(\"train loss\")   \n",
        "plt.xlabel(\"epochs\")\n",
        "plt.show()\n",
        "# plt.savefig(\"ReLU.jpg\")"
      ]
    },
    {
      "cell_type": "code",
      "execution_count": null,
      "metadata": {
        "id": "i5eDRvJUf2F7"
      },
      "outputs": [],
      "source": [
        "# plot for activation tanh\n",
        "import matplotlib.pyplot as plt\n",
        "\n",
        "plt.plot(tanh_loss_arr)\n",
        "plt.title(\"Plot: train loss vs epochs (activation func = tanh)\")\n",
        "plt.ylabel(\"train loss\")   \n",
        "plt.xlabel(\"epochs\")\n",
        "plt.show()\n",
        "# plt.savefig(\"tanh.jpg\")\n",
        "\n",
        "plt.plot(tanh_loss_arr_valid)\n",
        "plt.title(\"Plot: validation loss vs epochs (activation func = tanh)\")\n",
        "plt.ylabel(\"train loss\")   \n",
        "plt.xlabel(\"epochs\")\n",
        "plt.show()\n",
        "# plt.savefig(\"tanh.jpg\")"
      ]
    },
    {
      "cell_type": "code",
      "execution_count": null,
      "metadata": {
        "id": "HUml4ZRef2K_"
      },
      "outputs": [],
      "source": [
        "# plot for activation linear\n",
        "import matplotlib.pyplot as plt\n",
        "\n",
        "plt.plot(linear_loss_arr)\n",
        "plt.title(\"Plot: train loss vs epochs (activation func = linear)\")\n",
        "plt.ylabel(\"train loss\")   \n",
        "plt.xlabel(\"epochs\")\n",
        "plt.show()\n",
        "plt.savefig(\"linear.jpg\")\n",
        "\n",
        "plt.plot(linear_loss_arr_valid)\n",
        "plt.title(\"Plot: validation loss vs epochs (activation func = linear)\")\n",
        "plt.ylabel(\"train loss\")   \n",
        "plt.xlabel(\"epochs\")\n",
        "plt.show()\n",
        "plt.savefig(\"linear.jpg\")"
      ]
    },
    {
      "cell_type": "code",
      "execution_count": null,
      "metadata": {
        "id": "tUV6yWitA9X6"
      },
      "outputs": [],
      "source": [
        "# Scores of the model at different activation functions \n",
        "print(mlp_sigmoid.score(X_test, y_test))\n",
        "print(mlp_relu.score(X_test, y_test))\n",
        "print(mlp_tanh.score(X_test, y_test))\n",
        "print(mlp_linear.score(X_test, y_test))\n",
        "\n",
        "# we can see relu is the best activation function \n",
        "# because the model scores highest at activation function relu\n",
        "print()\n",
        "# Scores of the model at different activation functions (validation set)\n",
        "print(mlp_sigmoid_valid.score(X_test_valid, y_test_valid))\n",
        "print(mlp_relu_valid.score(X_test_valid, y_test_valid))\n",
        "print(mlp_tanh_valid.score(X_test_valid, y_test_valid))\n",
        "print(mlp_linear_valid.score(X_test_valid, y_test_valid))"
      ]
    },
    {
      "cell_type": "markdown",
      "metadata": {
        "id": "Ws5UpNuhJcK7"
      },
      "source": [
        "Part 2"
      ]
    },
    {
      "cell_type": "code",
      "execution_count": null,
      "metadata": {
        "id": "atc8yjcJA-XR"
      },
      "outputs": [],
      "source": [
        "# training the model at learning rate = 0.1\n",
        "\n",
        "mlp_alpha1 = MLPClassifier(learning_rate_init=0.1, max_iter=50, activation='relu', hidden_layer_sizes=(256,32))\n",
        "mlp_alpha1.fit(X_train, y_train)\n",
        "\n",
        "mlp_alpha1_valid = MLPClassifier(learning_rate_init=0.1, max_iter=50, activation='relu', hidden_layer_sizes=(256,32))\n",
        "mlp_alpha1_valid.fit(X_train_valid, y_train_valid)"
      ]
    },
    {
      "cell_type": "code",
      "execution_count": null,
      "metadata": {
        "id": "sFPyeID_A-Ts"
      },
      "outputs": [],
      "source": [
        "# training the model at learning rate = 0.01\n",
        "\n",
        "mlp_alpha2 = MLPClassifier(learning_rate_init=0.01, max_iter=50, activation='relu', hidden_layer_sizes=(256,32))\n",
        "mlp_alpha2.fit(X_train, y_train)\n",
        "\n",
        "mlp_alpha2_valid = MLPClassifier(learning_rate_init=0.01, max_iter=50, activation='relu', hidden_layer_sizes=(256,32))\n",
        "mlp_alpha2_valid.fit(X_train, y_train)"
      ]
    },
    {
      "cell_type": "code",
      "execution_count": null,
      "metadata": {
        "id": "kp0825uCA-RC"
      },
      "outputs": [],
      "source": [
        "# training the model at learning rate = 0.001\n",
        "\n",
        "mlp_alpha3 = MLPClassifier(learning_rate_init=0.001, max_iter=50, activation='relu', hidden_layer_sizes=(256,32))\n",
        "mlp_alpha3.fit(X_train, y_train)\n",
        "\n",
        "mlp_alpha3_valid = MLPClassifier(learning_rate_init=0.001, max_iter=50, activation='relu', hidden_layer_sizes=(256,32))\n",
        "mlp_alpha3_valid.fit(X_train, y_train)"
      ]
    },
    {
      "cell_type": "code",
      "execution_count": null,
      "metadata": {
        "id": "N6bUOzUfA-L8"
      },
      "outputs": [],
      "source": [
        "# Scores of the models at different learning rates as 0.1, 0.01 and 0.001\n",
        "print(mlp_alpha1.score(X_test, y_test))\n",
        "print(mlp_alpha2.score(X_test, y_test))\n",
        "print(mlp_alpha3.score(X_test, y_test))\n",
        "\n",
        "print()\n",
        "# Scores of the models at different learning rates as 0.1, 0.01 and 0.001 (on validation set)\n",
        "print(mlp_alpha1.score(X_test_valid, y_test_valid))\n",
        "print(mlp_alpha2.score(X_test_valid, y_test_valid))\n",
        "print(mlp_alpha3.score(X_test_valid, y_test_valid))"
      ]
    },
    {
      "cell_type": "code",
      "execution_count": null,
      "metadata": {
        "id": "OlY_QnTl4C7d"
      },
      "outputs": [],
      "source": [
        "alpha1_loss_arr = mlp_alpha1.loss_curve_\n",
        "alpha2_loss_arr = mlp_alpha2.loss_curve_\n",
        "alpha3_loss_arr = mlp_alpha3.loss_curve_"
      ]
    },
    {
      "cell_type": "code",
      "execution_count": null,
      "metadata": {
        "id": "JH_27Czj5ijx"
      },
      "outputs": [],
      "source": [
        "alpha1_loss_arr_valid = mlp_alpha1_valid.loss_curve_\n",
        "alpha2_loss_arr_valid = mlp_alpha2_valid.loss_curve_\n",
        "alpha3_loss_arr_valid = mlp_alpha3_valid.loss_curve_"
      ]
    },
    {
      "cell_type": "markdown",
      "metadata": {
        "id": "GD_PWw3w20u2"
      },
      "source": [
        "PLots of Part2"
      ]
    },
    {
      "cell_type": "code",
      "execution_count": null,
      "metadata": {
        "id": "QDVImrS42zqt"
      },
      "outputs": [],
      "source": [
        "# plot for alpha1\n",
        "import matplotlib.pyplot as plt\n",
        "\n",
        "plt.plot(alpha1_loss_arr)\n",
        "plt.title(\"Plot: train loss vs epochs (alpha = 0.1)\")\n",
        "plt.ylabel(\"train loss\")   \n",
        "plt.xlabel(\"epochs\")\n",
        "plt.show()\n",
        "\n",
        "\n",
        "plt.plot(alpha1_loss_arr_valid)\n",
        "plt.title(\"Plot: validation loss vs epochs (alpha = 0.1)\")\n",
        "plt.ylabel(\"train loss\")   \n",
        "plt.xlabel(\"epochs\")\n",
        "plt.show()"
      ]
    },
    {
      "cell_type": "code",
      "execution_count": null,
      "metadata": {
        "id": "uvjHyMGC67We"
      },
      "outputs": [],
      "source": [
        "# plot for alpha2\n",
        "import matplotlib.pyplot as plt\n",
        "\n",
        "plt.plot(alpha2_loss_arr)\n",
        "plt.title(\"Plot: train loss vs epochs (alpha = 0.01)\")\n",
        "plt.ylabel(\"train loss\")   \n",
        "plt.xlabel(\"epochs\")\n",
        "plt.show()\n",
        "\n",
        "\n",
        "plt.plot(alpha2_loss_arr_valid)\n",
        "plt.title(\"Plot: validation loss vs epochs (alpha = 0.01)\")\n",
        "plt.ylabel(\"train loss\")   \n",
        "plt.xlabel(\"epochs\")\n",
        "plt.show()"
      ]
    },
    {
      "cell_type": "code",
      "execution_count": null,
      "metadata": {
        "id": "pMgOjZif67DS"
      },
      "outputs": [],
      "source": [
        "# plot for alpha3\n",
        "import matplotlib.pyplot as plt\n",
        "\n",
        "plt.plot(alpha3_loss_arr)\n",
        "plt.title(\"Plot: train loss vs epochs (alpha = 0.001)\")\n",
        "plt.ylabel(\"train loss\")   \n",
        "plt.xlabel(\"epochs\")\n",
        "plt.show()\n",
        "\n",
        "\n",
        "plt.plot(alpha3_loss_arr_valid)\n",
        "plt.title(\"Plot: validation loss vs epochs (alpha = 0.001)\")\n",
        "plt.ylabel(\"train loss\")   \n",
        "plt.xlabel(\"epochs\")\n",
        "plt.show()"
      ]
    },
    {
      "cell_type": "markdown",
      "metadata": {
        "id": "Dx1a2dVDR8xt"
      },
      "source": [
        "Part 3"
      ]
    },
    {
      "cell_type": "code",
      "execution_count": null,
      "metadata": {
        "id": "fB5CwYnCRKey"
      },
      "outputs": [],
      "source": [
        "mlp1 = MLPClassifier(max_iter=20, hidden_layer_sizes=(252,30), verbose=False) #HLs = (252,30) #default activation function is relu\n",
        "mlp1.fit(X_train, y_train) "
      ]
    },
    {
      "cell_type": "code",
      "execution_count": null,
      "metadata": {
        "id": "uFA30LpRRKba"
      },
      "outputs": [],
      "source": [
        "mlp2 = MLPClassifier(max_iter=20, hidden_layer_sizes=(244,36), verbose=False) #HLs = (244,36)\n",
        "mlp2.fit(X_train, y_train)"
      ]
    },
    {
      "cell_type": "code",
      "execution_count": null,
      "metadata": {
        "id": "DRw1mj-hnVnJ"
      },
      "outputs": [],
      "source": [
        "mlp3 = MLPClassifier(max_iter=20, hidden_layer_sizes=(228,18), verbose=False) #HLs = (228,18)\n",
        "mlp3.fit(X_train, y_train)"
      ]
    },
    {
      "cell_type": "markdown",
      "metadata": {
        "id": "W4WMGn3xlUnz"
      },
      "source": [
        "Plots for the models"
      ]
    },
    {
      "cell_type": "code",
      "execution_count": null,
      "metadata": {
        "id": "rS_Eoz6ORKYy"
      },
      "outputs": [],
      "source": [
        "loss_arr1 = mlp1.loss_curve_\n",
        "loss_arr2 = mlp2.loss_curve_\n",
        "loss_arr3 = mlp3.loss_curve_"
      ]
    },
    {
      "cell_type": "code",
      "execution_count": null,
      "metadata": {
        "id": "DjOGypm4RKVd"
      },
      "outputs": [],
      "source": [
        "# plot1 \n",
        "plt.plot(loss_arr1)\n",
        "plt.title(\"Plot1: train loss vs epochs\")\n",
        "plt.ylabel(\"train loss\")   \n",
        "plt.xlabel(\"epochs\")\n",
        "plt.show()\n",
        "\n",
        "# Plot2\n",
        "plt.plot(loss_arr2)\n",
        "plt.title(\"Plot2: train loss vs epochs\")\n",
        "plt.ylabel(\"train loss\")   \n",
        "plt.xlabel(\"epochs\")\n",
        "plt.show()\n",
        "\n",
        "# Plot3\n",
        "plt.plot(loss_arr3)\n",
        "plt.title(\"Plot3: train loss vs epochs\")\n",
        "plt.ylabel(\"train loss\")   \n",
        "plt.xlabel(\"epochs\")\n",
        "plt.show()"
      ]
    },
    {
      "cell_type": "code",
      "execution_count": null,
      "metadata": {
        "id": "Ah9EXQ6LGER5"
      },
      "outputs": [],
      "source": [
        "print(mlp1.score(X_test, y_test))\n",
        "print(mlp2.score(X_test, y_test))\n",
        "print(mlp3.score(X_test, y_test))"
      ]
    },
    {
      "cell_type": "markdown",
      "metadata": {
        "id": "rm_RwbTwo25B"
      },
      "source": [
        "Part 4"
      ]
    },
    {
      "cell_type": "code",
      "execution_count": null,
      "metadata": {
        "id": "mbUb-G8Tnss8"
      },
      "outputs": [],
      "source": [
        "# we applied grid search at activation function = relu\n",
        "mlp_grid_srch = MLPClassifier(max_iter=10)\n",
        "\n",
        "dict_parameters = {'hidden_layer_sizes': [(256, 32)],\n",
        "              'activation': ['relu'],\n",
        "              'solver': ['adam'],\n",
        "              'alpha': [0.001],\n",
        "              'learning_rate': ['constant']}\n"
      ]
    },
    {
      "cell_type": "code",
      "execution_count": null,
      "metadata": {
        "id": "8UfY_LIH104G"
      },
      "outputs": [],
      "source": [
        "from sklearn.model_selection import GridSearchCV"
      ]
    },
    {
      "cell_type": "code",
      "execution_count": null,
      "metadata": {
        "id": "_9C_WFiP1D-c"
      },
      "outputs": [],
      "source": [
        "grdSrch_clf = GridSearchCV(mlp_grid_srch, dict_parameters, n_jobs=-1, cv=2)\n",
        "grdSrch_clf.fit(X_train, y_train)"
      ]
    },
    {
      "cell_type": "code",
      "execution_count": null,
      "metadata": {
        "id": "qRGehvEM1yi6"
      },
      "outputs": [],
      "source": [
        "# print the best Parameters of the Classifiers\n",
        "print(\"Best Parameters = {}\".format(grdSrch_clf.best_params_))"
      ]
    },
    {
      "cell_type": "code",
      "execution_count": null,
      "metadata": {
        "id": "QA6XlTNDJpDK"
      },
      "outputs": [],
      "source": [
        "grdSrch_clf.score(X_test, y_test)"
      ]
    },
    {
      "cell_type": "code",
      "execution_count": null,
      "metadata": {
        "id": "F2IhHa0MJ_Ls"
      },
      "outputs": [],
      "source": [
        "grdSrch_clf.score(X_test_valid, y_test_valid)"
      ]
    }
  ],
  "metadata": {
    "colab": {
      "provenance": [],
      "include_colab_link": true
    },
    "kernelspec": {
      "display_name": "Python 3",
      "language": "python",
      "name": "python3"
    },
    "language_info": {
      "codemirror_mode": {
        "name": "ipython",
        "version": 3
      },
      "file_extension": ".py",
      "mimetype": "text/x-python",
      "name": "python",
      "nbconvert_exporter": "python",
      "pygments_lexer": "ipython3",
      "version": "3.7.3"
    }
  },
  "nbformat": 4,
  "nbformat_minor": 0
}